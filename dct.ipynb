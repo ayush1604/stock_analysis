{
 "metadata": {
  "language_info": {
   "codemirror_mode": {
    "name": "ipython",
    "version": 3
   },
   "file_extension": ".py",
   "mimetype": "text/x-python",
   "name": "python",
   "nbconvert_exporter": "python",
   "pygments_lexer": "ipython3",
   "version": "3.9.2-final"
  },
  "orig_nbformat": 2,
  "kernelspec": {
   "name": "python3",
   "display_name": "Python 3.9.2 64-bit",
   "metadata": {
    "interpreter": {
     "hash": "7de31f413531e91ebec935718bb5d86c720cbf6e34786de01ce87ffc441a6e95"
    }
   }
  }
 },
 "nbformat": 4,
 "nbformat_minor": 2,
 "cells": [
  {
   "cell_type": "code",
   "execution_count": 1,
   "metadata": {},
   "outputs": [],
   "source": [
    "import numpy as np\n",
    "import pandas as pd\n",
    "from scipy.fftpack import dct, idct\n",
    "from preprocessing.wrangling import get_indi_df, get_labels, slide_and_flatten\n",
    "from preprocessing.extract_features import get_all_ta_features, get_wavelet_coeffs\n",
    "from evaluation.eval import sliding_window_cv_regression, batch_test_swcv_regression\n",
    "from sklearn.metrics import mean_squared_error, mean_absolute_percentage_error, r2_score\n",
    "from sklearn.preprocessing import StandardScaler, RobustScaler\n",
    "from sklearn.feature_selection import SelectFromModel\n",
    "from sklearn.linear_model import Lasso\n",
    "from sklearn.ensemble import RandomForestRegressor\n",
    "from numpy.lib.stride_tricks import sliding_window_view\n",
    "from xgboost import XGBRegressor\n",
    "from sklearn.pipeline import make_pipeline"
   ]
  },
  {
   "cell_type": "code",
   "execution_count": 2,
   "metadata": {},
   "outputs": [],
   "source": [
    "df = get_indi_df(\"ASHOKLEY.NS\", ohlcvfile=\"data_collection/ohlcv_data/ohlcv_auto.csv\", start_date=\"2017-01-01\")\n",
    "# df = get_all_ta_features(df)\n",
    "drop_columns = ['Date', 'Adj Close']\n",
    "df.drop(drop_columns, axis=1, inplace=True)\n",
    "move_dir_target, cls_target = get_labels(df['Close'])\n",
    "df = df.iloc[:-1]\n",
    "cls_target = cls_target.iloc[:-1]"
   ]
  },
  {
   "cell_type": "code",
   "execution_count": 3,
   "metadata": {},
   "outputs": [],
   "source": [
    "y = pd.Series(dct((cls_target - df['Close']).to_frame(), axis=0).squeeze(), index=cls_target.index)\n",
    "y10 = pd.Series(dct((cls_target[9:] - df['Close'][9:]).to_frame(), axis=0).squeeze(), index=cls_target[9:].index)\n",
    "y30 = pd.Series(dct((cls_target[29:] - df['Close'][29:]).to_frame(), axis=0).squeeze(), index=cls_target[29:].index)\n",
    "# y60 = cls_target[59:] - df['Close'].iloc[59:]\n",
    "\n",
    "def add_closing_price(y, cls_price):\n",
    "    return y + cls_price\n",
    "\n",
    "def idct_add_closing_price(y, cls_price):\n",
    "    return pd.Series(idct((y+cls_price).to_frame(), axis=0).squeeze(), index=cls_price.index)"
   ]
  },
  {
   "cell_type": "code",
   "execution_count": 4,
   "metadata": {},
   "outputs": [],
   "source": [
    "# df = df.merge(pd.DataFrame(dct(df, axis=0), index=df.index), left_index=True, right_index=True)\n",
    "df_close = df['Close']\n",
    "df = pd.DataFrame(dct(df, axis=0), index=df.index)"
   ]
  },
  {
   "cell_type": "code",
   "execution_count": 5,
   "metadata": {},
   "outputs": [],
   "source": [
    "df10 = slide_and_flatten(df, window_len=10)\n",
    "df10 = pd.DataFrame(df10, index=df.index[9:])\n",
    "df30 = slide_and_flatten(df, window_len=30)\n",
    "df30 = pd.DataFrame(df30, index=df.index[29:])\n",
    "# df60 = slide_and_flatten(df, window_len=60)\n",
    "# df60 = pd.DataFrame(df60, index=df.index[59:])\n",
    "\n",
    "# df10_wavelet = get_wavelet_coeffs(df['Close'], len_window=10, decomp_level=2)\n",
    "# df10_wavelet = pd.DataFrame.from_records(df10_wavelet, index=df10.index)\n",
    "# df30_wavelet = get_wavelet_coeffs(df['Close'], len_window=30, decomp_level=2)\n",
    "# df30_wavelet = pd.DataFrame.from_records(df30_wavelet, index=df30.index)\n",
    "# df60_wavelet = get_wavelet_coeffs(df['Close'], len_window=60, decomp_level=2)\n",
    "# df60_wavelet = pd.DataFrame.from_records(df60_wavelet, index=df60.index)"
   ]
  },
  {
   "cell_type": "code",
   "execution_count": 6,
   "metadata": {},
   "outputs": [],
   "source": [
    "pipe1 = make_pipeline(\n",
    "    (StandardScaler()),\n",
    "    (RandomForestRegressor(n_estimators=100))\n",
    ")\n",
    "\n",
    "pipe2 = make_pipeline(\n",
    "    (RobustScaler()),\n",
    "    (RandomForestRegressor(n_estimators=100))\n",
    ")\n"
   ]
  },
  {
   "cell_type": "code",
   "execution_count": 15,
   "metadata": {},
   "outputs": [],
   "source": [
    "batch_test_swcv_regression(\n",
    "    list_X = [df30],\n",
    "    list_y = [y30],\n",
    "    list_pipe = [pipe1, pipe2],\n",
    "    list_n_tr = [120],\n",
    "    list_n_ts = [1],\n",
    "    scorers = [mean_squared_error,mean_absolute_percentage_error, r2_score],\n",
    "    savefile='tests_with_dct.csv',\n",
    "    comment_X=[\"df10_dct_wota\"],\n",
    "    list_post_processors=[(idct_add_closing_price, {'cls_price':df_close.iloc[29:len(df)-(120+1)]})]\n",
    ")\n",
    "\n",
    "# cls_price should have length len(X)-(n_tr+n_ts)"
   ]
  }
 ]
}