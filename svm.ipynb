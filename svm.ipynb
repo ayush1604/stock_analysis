{
 "cells": [
  {
   "cell_type": "code",
   "execution_count": 1,
   "metadata": {},
   "outputs": [],
   "source": [
    "import numpy as np\n",
    "import pandas as pd\n",
    "from preprocessing.wrangling import get_indi_df, get_labels, slide_and_flatten\n",
    "from preprocessing.extract_features import get_all_ta_features, get_wavelet_coeffs\n",
    "from evaluation.eval import sliding_window_cv_regression, batch_test_swcv_regression\n",
    "from sklearn.metrics import mean_squared_error, mean_absolute_percentage_error, r2_score\n",
    "from sklearn.preprocessing import StandardScaler, RobustScaler, MinMaxScaler\n",
    "from sklearn.feature_selection import SelectFromModel\n",
    "from sklearn.linear_model import Lasso\n",
    "from sklearn.ensemble import RandomForestRegressor, GradientBoostingRegressor\n",
    "from numpy.lib.stride_tricks import sliding_window_view\n",
    "from xgboost import XGBRegressor\n",
    "from sklearn.pipeline import make_pipeline\n",
    "import os"
   ]
  },
  {
   "cell_type": "code",
   "execution_count": 2,
   "metadata": {},
   "outputs": [],
   "source": [
    "from sklearn.svm import SVR"
   ]
  },
  {
   "cell_type": "code",
   "execution_count": 3,
   "metadata": {},
   "outputs": [],
   "source": [
    "def add_closing_price(y, cls_price):\n",
    "    return y + cls_price"
   ]
  },
  {
   "cell_type": "code",
   "execution_count": 4,
   "metadata": {},
   "outputs": [],
   "source": [
    "class PersistanceModel:\n",
    "    def __init__(self, persist_colname='Close'):\n",
    "        self.persist_colname = persist_colname\n",
    "\n",
    "    def __repr__(self):\n",
    "        return \"PersistanceModel(persist_colname={})\".format(self.persist_colname)\n",
    "\n",
    "    def fit(self, Xtr, ytr):\n",
    "        pass\n",
    "\n",
    "    def predict(self, Xts):\n",
    "        return Xts.loc[:, self.persist_colname]\n"
   ]
  },
  {
   "cell_type": "code",
   "execution_count": 5,
   "metadata": {},
   "outputs": [
    {
     "name": "stdout",
     "output_type": "stream",
     "text": [
      "A test completed. (Comment : ['persistance', 30, 1])\n",
      "A test completed. (Comment : ['baseline_gbr', 30, 1])\n",
      "A test completed. (Comment : ['persistance', 30, 1])\n",
      "A test completed. (Comment : ['baseline_gbr', 30, 1])\n",
      "A test completed. (Comment : ['persistance', 30, 1])\n",
      "A test completed. (Comment : ['baseline_gbr', 30, 1])\n",
      "A test completed. (Comment : ['persistance', 30, 1])\n",
      "A test completed. (Comment : ['baseline_gbr', 30, 1])\n",
      "A test completed. (Comment : ['persistance', 30, 1])\n",
      "A test completed. (Comment : ['baseline_gbr', 30, 1])\n",
      "A test completed. (Comment : ['persistance', 30, 1])\n",
      "A test completed. (Comment : ['baseline_gbr', 30, 1])\n",
      "A test completed. (Comment : ['persistance', 30, 1])\n",
      "A test completed. (Comment : ['baseline_gbr', 30, 1])\n",
      "A test completed. (Comment : ['persistance', 30, 1])\n",
      "A test completed. (Comment : ['baseline_gbr', 30, 1])\n",
      "A test completed. (Comment : ['persistance', 30, 1])\n",
      "A test completed. (Comment : ['baseline_gbr', 30, 1])\n"
     ]
    }
   ],
   "source": [
    "list_dir = 'data_collection/stocks_list'\n",
    "list_prefix = \"ind_nifty\"\n",
    "list_suffix = \"list.csv\"\n",
    "save_dir = 'data_collection/ohlcv_data'\n",
    "save_prefix = \"ohlcv_\"\n",
    "save_suffix = \".csv\"\n",
    "cap_n_stocks = 10\n",
    "\n",
    "for f in os.listdir(list_dir):\n",
    "    if f.startswith(list_prefix) and f.endswith(list_suffix):\n",
    "            savefile = os.path.join(save_dir, save_prefix+f[9:-8]+save_suffix)\n",
    "            listfile = os.path.join(list_dir, f)\n",
    "            p = pd.read_csv(listfile)\n",
    "            symbols = list(p['Symbol'].values + '.NS')\n",
    "            if cap_n_stocks <= 0:\n",
    "                break\n",
    "            for symbol in symbols:\n",
    "                cap_n_stocks -= 1\n",
    "                if cap_n_stocks <= 0:\n",
    "                    break\n",
    "                df = get_indi_df(symbol, ohlcvfile=savefile, start_date=\"2017-01-01\")\n",
    "                # df = get_all_ta_features(df)\n",
    "                drop_columns = ['Date', 'Adj Close']\n",
    "                df.drop(drop_columns, axis=1, inplace=True)\n",
    "                move_dir_target, cls_target = get_labels(df['Close'])\n",
    "                df = df.iloc[:-1]\n",
    "                cls_target = cls_target.iloc[:-1]\n",
    "\n",
    "                df10 = slide_and_flatten(df, window_len=10)\n",
    "                df10 = pd.DataFrame(df10, index=df.index[9:])\n",
    "                # df30 = slide_and_flatten(df, window_len=30)\n",
    "                # df30 = pd.DataFrame(df30, index=df.index[29:])\n",
    "                # df60 = slide_and_flatten(df, window_len=60)\n",
    "                # df60 = pd.DataFrame(df60, index=df.index[59:])\n",
    "\n",
    "                df10_wavelet = get_wavelet_coeffs(df['Close'], len_window=10, decomp_level=2)\n",
    "                # df10_wavelet = pd.DataFrame.from_records(df10_wavelet, index=df10.index)\n",
    "                # df30_wavelet = get_wavelet_coeffs(df['Close'], len_window=30, decomp_level=2)\n",
    "                # df30_wavelet = pd.DataFrame.from_records(df30_wavelet, index=df30.index)\n",
    "                # df60_wavelet = get_wavelet_coeffs(df['Close'], len_window=60, decomp_level=2)\n",
    "                # df60_wavelet = pd.DataFrame.from_records(df60_wavelet, index=df60.index)\n",
    "\n",
    "                # df10 = df10.merge(df10_wavelet, left_index=True, right_index=True)\n",
    "                # df30 = df30.merge(df30_wavelet, left_index=True, right_index=True)\n",
    "                # df60 = df60.merge(df60_wavelet, left_index=True, right_index=True)\n",
    "\n",
    "                y = cls_target - df['Close']\n",
    "                # y10 = cls_target[9:] - df['Close'].iloc[9:]\n",
    "                # y30 = cls_target[29:] - df['Close'].iloc[29:]\n",
    "                # y60 = cls_target[59:] - df['Close'].iloc[59:]\n",
    "\n",
    "                pipe1 = make_pipeline(\n",
    "                    PersistanceModel(persist_colname=\"Close\")\n",
    "                )\n",
    "\n",
    "                pipe2 = make_pipeline(\n",
    "                    (MinMaxScaler()),\n",
    "                    (GradientBoostingRegressor())\n",
    "                )\n",
    "\n",
    "\n",
    "                batch_test_swcv_regression(\n",
    "                    list_X = [df],\n",
    "                    list_y = [cls_target],\n",
    "                    list_pipe = [pipe1],\n",
    "                    list_n_tr = [30],\n",
    "                    list_n_ts = [1],\n",
    "                    scorers = [mean_squared_error,mean_absolute_percentage_error, r2_score],\n",
    "                    savefile='results/baseline_test_gbr_{}.csv'.format(symbol),\n",
    "                    comment_X=[\"persistance\"],\n",
    "                    list_post_processors=[None]\n",
    "                )\n",
    "\n",
    "                batch_test_swcv_regression(\n",
    "                    list_X = [df],\n",
    "                    list_y = [cls_target],\n",
    "                    list_pipe = [pipe2],\n",
    "                    list_n_tr = [30],\n",
    "                    list_n_ts = [1],\n",
    "                    scorers = [mean_squared_error,mean_absolute_percentage_error, r2_score],\n",
    "                    savefile='results/baseline_test_gbr_{}.csv'.format(symbol),\n",
    "                    comment_X=[\"baseline_gbr\"],\n",
    "                    list_post_processors=[None]\n",
    "                )\n",
    "                # cls_price should have length len(X)-(n_tr+n_ts)"
   ]
  }
 ],
 "metadata": {
  "interpreter": {
   "hash": "4d956a392b67227f401c129a901ef5c98887812674686cb9105f1c9b415cc849"
  },
  "kernelspec": {
   "display_name": "Python 3.9.7 ('base')",
   "language": "python",
   "name": "python3"
  },
  "language_info": {
   "codemirror_mode": {
    "name": "ipython",
    "version": 3
   },
   "file_extension": ".py",
   "mimetype": "text/x-python",
   "name": "python",
   "nbconvert_exporter": "python",
   "pygments_lexer": "ipython3",
   "version": "3.9.7"
  },
  "orig_nbformat": 4
 },
 "nbformat": 4,
 "nbformat_minor": 2
}
