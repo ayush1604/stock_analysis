{
 "cells": [
  {
   "cell_type": "code",
   "execution_count": 1,
   "id": "c50d5ffb",
   "metadata": {
    "scrolled": true
   },
   "outputs": [],
   "source": [
    "# !pip install PyWavelets"
   ]
  },
  {
   "cell_type": "code",
   "execution_count": 4,
   "id": "f5694694",
   "metadata": {},
   "outputs": [],
   "source": [
    "import pywt\n",
    "import pandas as pd\n",
    "import numpy as np\n",
    "from matplotlib import pyplot as plt\n",
    "from numpy.lib.stride_tricks import sliding_window_view\n"
   ]
  },
  {
   "cell_type": "code",
   "execution_count": 2,
   "id": "ba04f6b6",
   "metadata": {},
   "outputs": [
    {
     "name": "stdout",
     "output_type": "stream",
     "text": [
      "ohlcv_auto.csv\t\t    ohlcv_healthcare.csv  ohlcv_pharma.csv\n",
      "ohlcv_bank.csv\t\t    ohlcv_it.csv\t  ohlcv__privatebank.csv\n",
      "ohlcv_consumerdurables.csv  ohlcv_media.csv\t  ohlcv_psubank.csv\n",
      "ohlcv_finance.csv\t    ohlcv_metal.csv\t  ohlcv_realty.csv\n",
      "ohlcv_fmcg.csv\t\t    ohlcv_oilgas.csv\n"
     ]
    }
   ],
   "source": [
    "!ls ../data_collection/ohlcv_data"
   ]
  },
  {
   "cell_type": "code",
   "execution_count": 3,
   "id": "363a28ce",
   "metadata": {},
   "outputs": [],
   "source": [
    "df = pd.read_csv('../data_collection/ohlcv_data/ohlcv_auto.csv')[['Date', 'Ticker', 'BAJAJ-AUTO.NS']]"
   ]
  },
  {
   "cell_type": "code",
   "execution_count": 4,
   "id": "568961ec",
   "metadata": {},
   "outputs": [
    {
     "data": {
      "text/plain": [
       "[<matplotlib.lines.Line2D at 0x7ff66ad8ba00>]"
      ]
     },
     "execution_count": 4,
     "metadata": {},
     "output_type": "execute_result"
    },
    {
     "data": {
      "image/png": "[encoded data removed]",
      "text/plain": [
       "<Figure size 432x288 with 1 Axes>"
      ]
     },
     "metadata": {
      "needs_background": "light"
     },
     "output_type": "display_data"
    }
   ],
   "source": [
    "df = df[df['Ticker']=='Adj Close']\n",
    "df.dropna(inplace=True)\n",
    "plt.plot(df['Date'], df['BAJAJ-AUTO.NS'])"
   ]
  },
  {
   "cell_type": "code",
   "execution_count": 69,
   "id": "b4d3418f",
   "metadata": {
    "scrolled": true
   },
   "outputs": [],
   "source": [
    "def madev(d, axis=None):\n",
    "    \"\"\" Mean absolute deviation of a signal \"\"\"\n",
    "    return np.mean(np.absolute(d - np.mean(d, axis)), axis)\n",
    "\n",
    "def wavelet_denoising(x, wavelet='haar', decomp_level=4, level=1):\n",
    "    coeff = pywt.wavedec(x, wavelet, mode=\"constant\", level=decomp_level)\n",
    "    sigma = (1/0.6745) * madev(coeff[-level])\n",
    "    uthresh = sigma * np.sqrt(2 * np.log(len(x)))\n",
    "    coeff[1:] = (pywt.threshold(i, value=uthresh, mode='hard') for i in coeff[1:])\n",
    "    return pywt.waverec(coeff, wavelet, mode=\"constant\"), coeff\n",
    "\n",
    "# sm1, _ = wavelet_denoising(df['BAJAJ-AUTO.NS'])"
   ]
  },
  {
   "cell_type": "code",
   "execution_count": 32,
   "id": "9e11e972",
   "metadata": {},
   "outputs": [
    {
     "data": {
      "text/plain": [
       "0    0.102578\n",
       "1    0.331093\n",
       "2    0.033311\n",
       "3    0.668891\n",
       "4    0.587482\n",
       "5    0.152129\n",
       "6    0.149382\n",
       "7    0.675673\n",
       "8    0.746904\n",
       "9    0.793695\n",
       "dtype: float64"
      ]
     },
     "execution_count": 32,
     "metadata": {},
     "output_type": "execute_result"
    }
   ],
   "source": [
    "a[:10]"
   ]
  },
  {
   "cell_type": "code",
   "execution_count": 132,
   "id": "c0b83b7b",
   "metadata": {},
   "outputs": [],
   "source": [
    "def get_wavelet_coeffs(x, len_window=30, axis=1, decomp_level=1):\n",
    "    x = pd.Series(x)\n",
    "    xdf = sliding_window_view(x, (len_window), writeable=True)\n",
    "    x_swdf = pd.DataFrame.from_records(xdf)\n",
    "    x_swdf_sm_coeff = x_swdf.apply(wavelet_denoising, axis=axis, decomp_level=decomp_level)\n",
    "    return np.stack(x_swdf_sm_coeff.apply(lambda row : np.array(row[1]).flatten()))"
   ]
  },
  {
   "cell_type": "code",
   "execution_count": 134,
   "id": "f60c7ab1",
   "metadata": {},
   "outputs": [
    {
     "data": {
      "text/plain": [
       "(51, 30)"
      ]
     },
     "execution_count": 134,
     "metadata": {},
     "output_type": "execute_result"
    }
   ],
   "source": [
    "get_wavelet_coeffs(a).shape"
   ]
  },
  {
   "cell_type": "code",
   "execution_count": 135,
   "id": "b7c238b5",
   "metadata": {},
   "outputs": [
    {
     "data": {
      "text/plain": [
       "(80,)"
      ]
     },
     "execution_count": 135,
     "metadata": {},
     "output_type": "execute_result"
    }
   ],
   "source": [
    "a.shape"
   ]
  },
  {
   "cell_type": "code",
   "execution_count": 72,
   "id": "f5de4697",
   "metadata": {},
   "outputs": [
    {
     "data": {
      "text/plain": [
       "(71,)"
      ]
     },
     "execution_count": 72,
     "metadata": {},
     "output_type": "execute_result"
    }
   ],
   "source": [
    "a = pd.Series(np.random.random(80))\n",
    "adf = pd.DataFrame(sliding_window_view(a, (10), writeable=True))\n",
    "adfr = adf.apply(wavelet_denoising, axis=1, decomp_level=1)\n",
    "adfr.shape"
   ]
  },
  {
   "cell_type": "code",
   "execution_count": 96,
   "id": "e442e2cc",
   "metadata": {},
   "outputs": [
    {
     "data": {
      "text/plain": [
       "(71, 10)"
      ]
     },
     "execution_count": 96,
     "metadata": {},
     "output_type": "execute_result"
    }
   ],
   "source": [
    "adfrs = np.stack(adfr.apply(lambda row : np.array(row[1]).flatten()))\n",
    "adfrs.shape\n"
   ]
  },
  {
   "cell_type": "code",
   "execution_count": 102,
   "id": "59f7a676",
   "metadata": {},
   "outputs": [
    {
     "data": {
      "text/plain": [
       "(71, 10)"
      ]
     },
     "execution_count": 102,
     "metadata": {},
     "output_type": "execute_result"
    }
   ],
   "source": [
    "adfrs.shape"
   ]
  },
  {
   "cell_type": "code",
   "execution_count": 104,
   "id": "15856c2c",
   "metadata": {},
   "outputs": [
    {
     "data": {
      "text/plain": [
       "(71, 20)"
      ]
     },
     "execution_count": 104,
     "metadata": {},
     "output_type": "execute_result"
    }
   ],
   "source": [
    "np.hstack([adf, adfrs]).shape"
   ]
  },
  {
   "cell_type": "code",
   "execution_count": 7,
   "id": "d19baae1",
   "metadata": {},
   "outputs": [
    {
     "data": {
      "image/png": "[encoded data removed]",
      "text/plain": [
       "<Figure size 432x288 with 1 Axes>"
      ]
     },
     "metadata": {
      "needs_background": "light"
     },
     "output_type": "display_data"
    }
   ],
   "source": [
    "plt.plot(df['Date'], df['BAJAJ-AUTO.NS'])\n",
    "plt.plot(df['Date'], sm1)\n",
    "plt.show()"
   ]
  }
 ],
 "metadata": {
  "kernelspec": {
   "display_name": "Python 3 (ipykernel)",
   "language": "python",
   "name": "python3"
  },
  "language_info": {
   "codemirror_mode": {
    "name": "ipython",
    "version": 3
   },
   "file_extension": ".py",
   "mimetype": "text/x-python",
   "name": "python",
   "nbconvert_exporter": "python",
   "pygments_lexer": "ipython3",
   "version": "3.9.7"
  }
 },
 "nbformat": 4,
 "nbformat_minor": 5
}
