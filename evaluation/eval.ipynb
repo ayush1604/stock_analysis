{
 "cells": [
  {
   "cell_type": "code",
   "execution_count": 56,
   "metadata": {},
   "outputs": [],
   "source": [
    "import numpy as np\n",
    "from sklearn.metrics import mean_squared_error, mean_absolute_percentage_error, r2_score\n",
    "from sklearn.preprocessing import StandardScaler, RobustScaler\n",
    "from sklearn.linear_model import Ridge\n",
    "from sklearn.pipeline import make_pipeline\n",
    "import pandas as pd\n",
    "from itertools import product\n",
    "import csv \n",
    "import os.path\n",
    "import datetime"
   ]
  },
  {
   "cell_type": "code",
   "execution_count": 89,
   "metadata": {},
   "outputs": [],
   "source": [
    "def sliding_window_cv_regression(X, y, pipe, n_tr, n_ts=1, scorers=[]):\n",
    "    assert len(X) == len(y), \"Length of X ([]) must match that of y ([]).\".format(len(X), len(y))\n",
    "    y_pred = []\n",
    "    y_target = []\n",
    "    agg_results = {}\n",
    "\n",
    "\n",
    "    for i_tr_start in range(0, len(X)-(n_tr+n_ts)):\n",
    "        # The last i_ts_end should be len(X).\n",
    "        # i_ts_end = i_ts_start + n_ts\n",
    "        # Now, i_tr_end = i_ts_start\n",
    "        # So, i_tr_start = i_ts_start - n_tr\n",
    "        # But, i_ts_start = i_ts_end - n_ts\n",
    "        # Thus, i_tr_start = i_ts_end - n_tr - n_ts\n",
    "        # Hence, last i_tr_start = len(X) - (n_tr + n_ts)\n",
    "\n",
    "        i_tr_end = i_ts_start = i_tr_start + n_tr \n",
    "        i_ts_end = i_ts_start + n_ts \n",
    "\n",
    "        if isinstance(X, pd.DataFrame):\n",
    "            Xtr, Xts = X.iloc[i_tr_start:i_tr_end, :], X.iloc[i_ts_start:i_ts_end, :]\n",
    "        elif isinstance(X, np.ndarray):\n",
    "            Xtr, Xts = X[i_tr_start:i_tr_end, :], X[i_ts_start:i_ts_end, :]\n",
    "        ytr, yts = y[i_tr_start:i_tr_end], y[i_ts_start:i_ts_end]\n",
    "\n",
    "        pipe.fit(Xtr, ytr)\n",
    "        yts_hat = pipe.predict(Xts)\n",
    "        y_pred.extend(yts_hat)\n",
    "        y_target.extend(yts)\n",
    "    \n",
    "    if len(y_pred) > 1:\n",
    "        y_pred = np.squeeze(y_pred)\n",
    "\n",
    "    agg_results['time'] = datetime.datetime.now()\n",
    "    agg_results['model'] = str(pipe)\n",
    "    for scorer in scorers:\n",
    "        agg_results[scorer.__name__] = scorer(y_target, y_pred)\n",
    "    \n",
    "    return agg_results"
   ]
  },
  {
   "cell_type": "code",
   "execution_count": 60,
   "metadata": {},
   "outputs": [],
   "source": [
    "X = np.random.random(size=(300, 64))\n",
    "y = np.random.random(X.shape[0])\n",
    "pipe = make_pipeline(\n",
    "    RobustScaler(),\n",
    "    Ridge()\n",
    ")\n",
    "n_tr = 30\n",
    "n_ts = 2\n",
    "res = sliding_window_cv_regression(X, y, pipe, n_tr=n_tr, n_ts=n_ts, scorers=[mean_squared_error,\n",
    "mean_absolute_percentage_error, r2_score])"
   ]
  },
  {
   "cell_type": "code",
   "execution_count": 51,
   "metadata": {},
   "outputs": [
    {
     "data": {
      "text/plain": [
       "{'mean_squared_error': 0.16525680880996493,\n",
       " 'mean_absolute_percentage_error': 6.4147208375498765,\n",
       " 'r2_score': -0.9257532760198532}"
      ]
     },
     "execution_count": 51,
     "metadata": {},
     "output_type": "execute_result"
    }
   ],
   "source": [
    "res"
   ]
  },
  {
   "cell_type": "code",
   "execution_count": 90,
   "metadata": {},
   "outputs": [],
   "source": [
    "def batch_test_swcv_regression(list_X, list_y, list_pipe, list_n_tr, list_n_ts, scorers, savefile):\n",
    "    results = []\n",
    "    for X, y in zip(list_X, list_y):\n",
    "        for pipe, n_tr, n_ts in product(list_pipe, list_n_tr, list_n_ts):\n",
    "            result = sliding_window_cv_regression(X, y, pipe, n_tr, n_ts, scorers)\n",
    "            results.append(result)\n",
    "            print(\"A test completed. (Comment : {}\".format(result['comment']))\n",
    "\n",
    "    if savefile is not None:\n",
    "        file_exists = os.path.isfile(savefile)\n",
    "        \n",
    "        with open(savefile, 'w', newline='') as f:\n",
    "            writer = csv.DictWriter(f, fieldnames=results[0].keys(), delimiter=',', lineterminator='\\n')\n",
    "\n",
    "            if not file_exists:\n",
    "                writer.writeheader()  # file doesn't exist yet, write a header\n",
    "\n",
    "            writer.writerows(results)"
   ]
  },
  {
   "cell_type": "code",
   "execution_count": 91,
   "metadata": {},
   "outputs": [],
   "source": [
    "batch_test_swcv_regression(\n",
    "    list_X = [X],\n",
    "    list_y = [y],\n",
    "    list_pipe = [pipe],\n",
    "    list_n_tr = [30, 45],\n",
    "    list_n_ts = [1, 10],\n",
    "    scorers = [mean_squared_error,mean_absolute_percentage_error, r2_score],\n",
    "    savefile='temp_check.csv'\n",
    ")"
   ]
  },
  {
   "cell_type": "code",
   "execution_count": 88,
   "metadata": {},
   "outputs": [
    {
     "data": {
      "text/plain": [
       "\"Pipeline(steps=[('robustscaler', RobustScaler()), ('ridge', Ridge())])\""
      ]
     },
     "execution_count": 88,
     "metadata": {},
     "output_type": "execute_result"
    }
   ],
   "source": [
    "str(pipe)"
   ]
  }
 ],
 "metadata": {
  "interpreter": {
   "hash": "4d956a392b67227f401c129a901ef5c98887812674686cb9105f1c9b415cc849"
  },
  "kernelspec": {
   "display_name": "Python 3.9.7 ('base')",
   "language": "python",
   "name": "python3"
  },
  "language_info": {
   "codemirror_mode": {
    "name": "ipython",
    "version": 3
   },
   "file_extension": ".py",
   "mimetype": "text/x-python",
   "name": "python",
   "nbconvert_exporter": "python",
   "pygments_lexer": "ipython3",
   "version": "3.9.7"
  },
  "orig_nbformat": 4
 },
 "nbformat": 4,
 "nbformat_minor": 2
}
