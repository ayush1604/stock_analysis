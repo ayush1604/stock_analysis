{
 "cells": [
  {
   "cell_type": "code",
   "execution_count": 14,
   "metadata": {},
   "outputs": [],
   "source": [
    "import numpy as np\n",
    "import pandas as pd\n",
    "from preprocessing.wrangling import get_indi_df, get_labels\n",
    "from preprocessing.extract_features import get_all_ta_features\n",
    "from evaluation.eval import sliding_window_cv_regression, batch_test_swcv_regression\n",
    "from sklearn.metrics import mean_squared_error, mean_absolute_percentage_error, r2_score"
   ]
  },
  {
   "cell_type": "code",
   "execution_count": 7,
   "metadata": {},
   "outputs": [],
   "source": [
    "df = get_indi_df(\"ASHOKLEY.NS\", ohlcvfile=\"data_collection/ohlcv_data/ohlcv_auto.csv\", start_date=\"2017-01-01\")\n",
    "# df = get_all_ta_features(df)\n",
    "move_dir, cls_tmrw = get_labels(df['Close'])"
   ]
  },
  {
   "cell_type": "code",
   "execution_count": 18,
   "metadata": {},
   "outputs": [],
   "source": [
    "class PersistanceModel:\n",
    "    def __init__(self, persist_colname='Close'):\n",
    "        self.persist_colname = persist_colname\n",
    "\n",
    "    def __repr__(self):\n",
    "        return \"PersistanceModel(persist_colname={})\".format(self.persist_colname)\n",
    "\n",
    "    def fit(self, Xtr, ytr):\n",
    "        pass\n",
    "\n",
    "    def predict(self, Xts):\n",
    "        return Xts.loc[:, self.persist_colname]\n"
   ]
  },
  {
   "cell_type": "code",
   "execution_count": 19,
   "metadata": {},
   "outputs": [],
   "source": [
    "persist = PersistanceModel(persist_colname=\"Close\")\n",
    "scorers = [mean_squared_error,mean_absolute_percentage_error, r2_score]\n",
    "# sliding_window_cv_regression(df, cls_tmrw, persist, 300, 1, scorers=[mean_squared_error,mean_absolute_percentage_error, r2_score])\n",
    "batch_test_swcv_regression([df], [cls_tmrw], [persist], [300], [1], scorers=scorers, savefile=\"results_persistance_model.csv\")"
   ]
  }
 ],
 "metadata": {
  "interpreter": {
   "hash": "4d956a392b67227f401c129a901ef5c98887812674686cb9105f1c9b415cc849"
  },
  "kernelspec": {
   "display_name": "Python 3.9.7 ('base')",
   "language": "python",
   "name": "python3"
  },
  "language_info": {
   "codemirror_mode": {
    "name": "ipython",
    "version": 3
   },
   "file_extension": ".py",
   "mimetype": "text/x-python",
   "name": "python",
   "nbconvert_exporter": "python",
   "pygments_lexer": "ipython3",
   "version": "3.9.7"
  },
  "orig_nbformat": 4
 },
 "nbformat": 4,
 "nbformat_minor": 2
}
